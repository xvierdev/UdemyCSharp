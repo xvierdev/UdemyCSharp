{
 "cells": [
  {
   "cell_type": "markdown",
   "metadata": {},
   "source": [
    "# Area of circle\n",
    "This code calc circle area based on circle radius."
   ]
  },
  {
   "cell_type": "code",
   "execution_count": 1,
   "metadata": {
    "dotnet_interactive": {
     "language": "csharp"
    },
    "polyglot_notebook": {
     "kernelName": "csharp"
    },
    "vscode": {
     "languageId": "polyglot-notebook"
    }
   },
   "outputs": [
    {
     "name": "stdout",
     "output_type": "stream",
     "text": [
      "AREA=28,274309999999996\r\n"
     ]
    }
   ],
   "source": [
    "const double PI = 3.14159;\n",
    "double radius = 3;\n",
    "double area = PI * radius * radius;\n",
    "Console.WriteLine($\"AREA={area}\");"
   ]
  },
  {
   "cell_type": "markdown",
   "metadata": {},
   "source": [
    "|Data Type\t|Size\t|Description|\n",
    "|-----------|-------|-----------------------------------|\n",
    "|int\t|4 bytes\t|Stores whole numbers from -2,147,483,648 to 2,147,483,647|\n",
    "|long\t|8 bytes\t|Stores whole numbers from -9,223,372,036,854,775,808 to 9,223,372,036,854,775,807|\n",
    "|float\t|4 bytes\t|Stores fractional numbers. Sufficient for storing 6 to 7 decimal digits|\n",
    "|double\t|8 bytes\t|Stores fractional numbers. Sufficient for storing 15 decimal digits|\n",
    "|bool\t|1 bit      |Stores true or false values|\n",
    "|char\t|2 bytes    |Stores a single character/letter, surrounded by single quotes|\n",
    "|string\t|2 bytes    |per character\tStores a sequence of characters, surrounded by double quotes|"
   ]
  }
 ],
 "metadata": {
  "kernelspec": {
   "display_name": ".NET (C#)",
   "language": "C#",
   "name": ".net-csharp"
  },
  "language_info": {
   "name": "python"
  },
  "polyglot_notebook": {
   "kernelInfo": {
    "defaultKernelName": "csharp",
    "items": [
     {
      "aliases": [],
      "name": "csharp"
     }
    ]
   }
  }
 },
 "nbformat": 4,
 "nbformat_minor": 2
}
